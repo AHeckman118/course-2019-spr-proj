{
 "cells": [
  {
   "cell_type": "code",
   "execution_count": 4,
   "metadata": {},
   "outputs": [],
   "source": [
    "import requests\n",
    "import json\n",
    "import dml\n",
    "import prov.model\n",
    "import datetime\n",
    "import uuid\n",
    "import itertools"
   ]
  },
  {
   "cell_type": "code",
   "execution_count": 2,
   "metadata": {},
   "outputs": [],
   "source": [
    "contributor = 'mmao95_Dongyihe_weijiang_zhukk'\n",
    "reads = [contributor + '.famous_people', contributor + '.street_book']\n",
    "writes = [contributor + '.filtered_famous_people_streets']"
   ]
  },
  {
   "cell_type": "markdown",
   "metadata": {},
   "source": [
    "## exec"
   ]
  },
  {
   "cell_type": "code",
   "execution_count": 25,
   "metadata": {},
   "outputs": [
    {
     "data": {
      "text/plain": [
       "True"
      ]
     },
     "execution_count": 25,
     "metadata": {},
     "output_type": "execute_result"
    }
   ],
   "source": [
    "startTime = datetime.datetime.now()\n",
    "\n",
    "# Set up the database connection.\n",
    "client = dml.pymongo.MongoClient()\n",
    "repo = client.repo\n",
    "repo.authenticate(contributor, contributor)"
   ]
  },
  {
   "cell_type": "code",
   "execution_count": 43,
   "metadata": {},
   "outputs": [],
   "source": [
    "famous_people = repo[reads[0]].find()\n",
    "street_book = repo[reads[1]].find()\n",
    "def union(R, S):\n",
    "    return R + S\n",
    "\n",
    "def difference(R, S):\n",
    "    return [t for t in R if t not in S]\n",
    "\n",
    "def intersect(R, S):\n",
    "    return [t for t in R if t in S]\n",
    "\n",
    "def project(R, p):\n",
    "    return [p(t) for t in R]\n",
    "\n",
    "def select(R, s):\n",
    "    return [t for t in R if s(t)]\n",
    "\n",
    "def product(R, S):\n",
    "    return [(t, u) for t in R for u in S]\n",
    "\n",
    "def aggregate(R, f):\n",
    "    keys = {r[0] for r in R}\n",
    "    return [(key, f([v for (k, v) in R if k == key])) for key in keys]"
   ]
  },
  {
   "cell_type": "code",
   "execution_count": 60,
   "metadata": {},
   "outputs": [
    {
     "ename": "TypeError",
     "evalue": "'Collection' object is not callable. If you meant to call the 'cloneCollection' method on a 'Database' object it is failing because no such method exists.",
     "output_type": "error",
     "traceback": [
      "\u001b[0;31m---------------------------------------------------------------------------\u001b[0m",
      "\u001b[0;31mTypeError\u001b[0m                                 Traceback (most recent call last)",
      "\u001b[0;32m<ipython-input-60-f8f9cf325386>\u001b[0m in \u001b[0;36m<module>\u001b[0;34m()\u001b[0m\n\u001b[1;32m      2\u001b[0m \u001b[0mrepo\u001b[0m\u001b[0;34m.\u001b[0m\u001b[0mdropCollection\u001b[0m\u001b[0;34m(\u001b[0m\u001b[0mwrites\u001b[0m\u001b[0;34m[\u001b[0m\u001b[0;36m0\u001b[0m\u001b[0;34m]\u001b[0m\u001b[0;34m)\u001b[0m\u001b[0;34m\u001b[0m\u001b[0m\n\u001b[1;32m      3\u001b[0m \u001b[0;31m#repo.createCollection(writes[0])\u001b[0m\u001b[0;34m\u001b[0m\u001b[0;34m\u001b[0m\u001b[0m\n\u001b[0;32m----> 4\u001b[0;31m \u001b[0mrepo\u001b[0m\u001b[0;34m.\u001b[0m\u001b[0mcloneCollection\u001b[0m\u001b[0;34m(\u001b[0m\u001b[0mreads\u001b[0m\u001b[0;34m[\u001b[0m\u001b[0;36m1\u001b[0m\u001b[0;34m]\u001b[0m\u001b[0;34m,\u001b[0m \u001b[0mwrites\u001b[0m\u001b[0;34m[\u001b[0m\u001b[0;36m0\u001b[0m\u001b[0;34m]\u001b[0m\u001b[0;34m,\u001b[0m \u001b[0;34m{\u001b[0m\u001b[0;34m'Street Name'\u001b[0m\u001b[0;34m:\u001b[0m \u001b[0;34m{\u001b[0m\u001b[0;34m'$in'\u001b[0m\u001b[0;34m:\u001b[0m \u001b[0mfp\u001b[0m\u001b[0;34m}\u001b[0m\u001b[0;34m}\u001b[0m\u001b[0;34m)\u001b[0m\u001b[0;34m\u001b[0m\u001b[0m\n\u001b[0m",
      "\u001b[0;32m~/anaconda3/lib/python3.7/site-packages/pymongo/collection.py\u001b[0m in \u001b[0;36m__call__\u001b[0;34m(self, *args, **kwargs)\u001b[0m\n\u001b[1;32m   3315\u001b[0m                             \u001b[0;34m\"object it is failing because no such method \"\u001b[0m\u001b[0;34m\u001b[0m\u001b[0m\n\u001b[1;32m   3316\u001b[0m                             \u001b[0;34m\"exists.\"\u001b[0m \u001b[0;34m%\u001b[0m\u001b[0;34m\u001b[0m\u001b[0m\n\u001b[0;32m-> 3317\u001b[0;31m                             self.__name)\n\u001b[0m\u001b[1;32m   3318\u001b[0m         raise TypeError(\"'Collection' object is not callable. If you meant to \"\n\u001b[1;32m   3319\u001b[0m                         \u001b[0;34m\"call the '%s' method on a 'Collection' object it is \"\u001b[0m\u001b[0;34m\u001b[0m\u001b[0m\n",
      "\u001b[0;31mTypeError\u001b[0m: 'Collection' object is not callable. If you meant to call the 'cloneCollection' method on a 'Database' object it is failing because no such method exists."
     ]
    }
   ],
   "source": [
    "fp = set(itertools.chain(*{(n['first_name'], n['last_name']) for n in famous_people}))\n",
    "street_book = [t for t in street_book if t['Street Name'] not in fp]"
   ]
  },
  {
   "cell_type": "code",
   "execution_count": 6,
   "metadata": {
    "scrolled": true
   },
   "outputs": [
    {
     "data": {
      "text/plain": [
       "<pymongo.results.InsertManyResult at 0x10f13f208>"
      ]
     },
     "execution_count": 6,
     "metadata": {},
     "output_type": "execute_result"
    }
   ],
   "source": [
    "repo.dropCollection('filtered_famous_people_streets')\n",
    "repo.createCollection('filtered_famous_people_streets')\n",
    "repo[writes[0]].insert_many(list)"
   ]
  },
  {
   "cell_type": "code",
   "execution_count": 61,
   "metadata": {},
   "outputs": [
    {
     "data": {
      "text/plain": [
       "Database(MongoClient(host=['localhost:27017'], document_class=dict, tz_aware=False, connect=True), 'repo')"
      ]
     },
     "execution_count": 61,
     "metadata": {},
     "output_type": "execute_result"
    }
   ],
   "source": [
    "repo"
   ]
  },
  {
   "cell_type": "code",
   "execution_count": 23,
   "metadata": {},
   "outputs": [
    {
     "name": "stderr",
     "output_type": "stream",
     "text": [
      "/home/dongguho/anaconda3/lib/python3.7/site-packages/ipykernel_launcher.py:1: DeprecationWarning: Database.logout() is deprecated\n",
      "  \"\"\"Entry point for launching an IPython kernel.\n"
     ]
    },
    {
     "data": {
      "text/plain": [
       "{'start': datetime.datetime(2019, 3, 8, 7, 30, 47, 902409),\n",
       " 'end': datetime.datetime(2019, 3, 8, 7, 49, 43, 297132)}"
      ]
     },
     "execution_count": 23,
     "metadata": {},
     "output_type": "execute_result"
    }
   ],
   "source": [
    "repo.logout()\n",
    "endTime = datetime.datetime.now()\n",
    "{\"start\":startTime, \"end\":endTime}"
   ]
  },
  {
   "cell_type": "markdown",
   "metadata": {},
   "source": [
    "## prov"
   ]
  },
  {
   "cell_type": "code",
   "execution_count": 9,
   "metadata": {},
   "outputs": [
    {
     "name": "stderr",
     "output_type": "stream",
     "text": [
      "/anaconda3/lib/python3.6/site-packages/ipykernel_launcher.py:29: DeprecationWarning: Database.logout() is deprecated\n"
     ]
    },
    {
     "data": {
      "text/plain": [
       "<ProvDocument>"
      ]
     },
     "execution_count": 9,
     "metadata": {},
     "output_type": "execute_result"
    }
   ],
   "source": [
    "doc = prov.model.ProvDocument()\n",
    "startTime = None\n",
    "endTime = None\n",
    "client = dml.pymongo.MongoClient()\n",
    "repo = client.repo\n",
    "repo.authenticate(contributor, contributor)\n",
    "\n",
    "doc.add_namespace('alg', 'http://datamechanics.io/algorithm/') # The scripts are in <folder>#<filename> format.\n",
    "doc.add_namespace('dat', 'http://datamechanics.io/data/') # The data sets are in <user>#<collection> format.\n",
    "doc.add_namespace('ont', 'http://datamechanics.io/ontology#') # 'Extension', 'DataResource', 'DataSet', 'Retrieval', 'Query', or 'Computation'.\n",
    "doc.add_namespace('log', 'http://datamechanics.io/log/') # The event log.\n",
    "doc.add_namespace('bdp', 'https://www.50states.com/bio/mass.htm')\n",
    "\n",
    "this_script = doc.agent('alg:'+contributor+'#famous_people', {prov.model.PROV_TYPE:prov.model.PROV['SoftwareAgent'], 'ont:Extension':'py'})\n",
    "resource = doc.entity('bdp:wc8w-nujj', {'prov:label':'311, Service Requests', prov.model.PROV_TYPE:'ont:DataResource', 'ont:Extension':'json'})\n",
    "get_names = doc.activity('log:uuid'+str(uuid.uuid4()), startTime, endTime)\n",
    "doc.wasAssociatedWith(get_names, this_script)\n",
    "doc.usage(get_names, resource, startTime, None,\n",
    "    {prov.model.PROV_TYPE:'ont:Retrieval',\n",
    "    'ont:Computation':'Data cleaning'\n",
    "    }\n",
    ")\n",
    "\n",
    "fp = doc.entity('dat:'+contributor+'#famous_people', {prov.model.PROV_LABEL:'Famous People', prov.model.PROV_TYPE:'ont:DataSet'})\n",
    "doc.wasAttributedTo(fp, this_script)\n",
    "doc.wasGeneratedBy(fp, get_names, endTime)\n",
    "doc.wasDerivedFrom(fp, resource, get_names, get_names, get_names)\n",
    "\n",
    "repo.logout()\n",
    "doc"
   ]
  },
  {
   "cell_type": "code",
   "execution_count": 10,
   "metadata": {},
   "outputs": [
    {
     "name": "stdout",
     "output_type": "stream",
     "text": [
      "document\n",
      "  prefix alg <http://datamechanics.io/algorithm/>\n",
      "  prefix dat <http://datamechanics.io/data/>\n",
      "  prefix ont <http://datamechanics.io/ontology#>\n",
      "  prefix log <http://datamechanics.io/log/>\n",
      "  prefix bdp <https://www.50states.com/bio/mass.htm>\n",
      "  \n",
      "  agent(alg:mmao95_Dongyihe_weijiang_zhukk#famous_people, [prov:type='prov:SoftwareAgent', ont:Extension=\"py\"])\n",
      "  entity(bdp:wc8w-nujj, [prov:label=\"311, Service Requests\", prov:type=\"ont:DataResource\", ont:Extension=\"json\"])\n",
      "  activity(log:uuide2575f89-f744-4fe5-9902-d1d92e7034fb, -, -)\n",
      "  wasAssociatedWith(log:uuide2575f89-f744-4fe5-9902-d1d92e7034fb, alg:mmao95_Dongyihe_weijiang_zhukk#famous_people, -)\n",
      "  used(log:uuide2575f89-f744-4fe5-9902-d1d92e7034fb, bdp:wc8w-nujj, -, [prov:type=\"ont:Retrieval\", ont:Computation=\"Data cleaning\"])\n",
      "  entity(dat:mmao95_Dongyihe_weijiang_zhukk#famous_people, [prov:label=\"Famous People\", prov:type=\"ont:DataSet\"])\n",
      "  wasAttributedTo(dat:mmao95_Dongyihe_weijiang_zhukk#famous_people, alg:mmao95_Dongyihe_weijiang_zhukk#famous_people)\n",
      "  wasGeneratedBy(dat:mmao95_Dongyihe_weijiang_zhukk#famous_people, log:uuide2575f89-f744-4fe5-9902-d1d92e7034fb, -)\n",
      "  wasDerivedFrom(dat:mmao95_Dongyihe_weijiang_zhukk#famous_people, bdp:wc8w-nujj, log:uuide2575f89-f744-4fe5-9902-d1d92e7034fb, log:uuide2575f89-f744-4fe5-9902-d1d92e7034fb, log:uuide2575f89-f744-4fe5-9902-d1d92e7034fb)\n",
      "endDocument\n",
      "{\n",
      "    \"prefix\": {\n",
      "        \"alg\": \"http://datamechanics.io/algorithm/\",\n",
      "        \"dat\": \"http://datamechanics.io/data/\",\n",
      "        \"ont\": \"http://datamechanics.io/ontology#\",\n",
      "        \"log\": \"http://datamechanics.io/log/\",\n",
      "        \"bdp\": \"https://www.50states.com/bio/mass.htm\"\n",
      "    },\n",
      "    \"agent\": {\n",
      "        \"alg:mmao95_Dongyihe_weijiang_zhukk#famous_people\": {\n",
      "            \"prov:type\": {\n",
      "                \"$\": \"prov:SoftwareAgent\",\n",
      "                \"type\": \"prov:QUALIFIED_NAME\"\n",
      "            },\n",
      "            \"ont:Extension\": \"py\"\n",
      "        }\n",
      "    },\n",
      "    \"entity\": {\n",
      "        \"bdp:wc8w-nujj\": {\n",
      "            \"prov:label\": \"311, Service Requests\",\n",
      "            \"prov:type\": \"ont:DataResource\",\n",
      "            \"ont:Extension\": \"json\"\n",
      "        },\n",
      "        \"dat:mmao95_Dongyihe_weijiang_zhukk#famous_people\": {\n",
      "            \"prov:label\": \"Famous People\",\n",
      "            \"prov:type\": \"ont:DataSet\"\n",
      "        }\n",
      "    },\n",
      "    \"activity\": {\n",
      "        \"log:uuide2575f89-f744-4fe5-9902-d1d92e7034fb\": {}\n",
      "    },\n",
      "    \"wasAssociatedWith\": {\n",
      "        \"_:id1\": {\n",
      "            \"prov:activity\": \"log:uuide2575f89-f744-4fe5-9902-d1d92e7034fb\",\n",
      "            \"prov:agent\": \"alg:mmao95_Dongyihe_weijiang_zhukk#famous_people\"\n",
      "        }\n",
      "    },\n",
      "    \"used\": {\n",
      "        \"_:id2\": {\n",
      "            \"prov:activity\": \"log:uuide2575f89-f744-4fe5-9902-d1d92e7034fb\",\n",
      "            \"prov:entity\": \"bdp:wc8w-nujj\",\n",
      "            \"prov:type\": \"ont:Retrieval\",\n",
      "            \"ont:Computation\": \"Data cleaning\"\n",
      "        }\n",
      "    },\n",
      "    \"wasAttributedTo\": {\n",
      "        \"_:id3\": {\n",
      "            \"prov:entity\": \"dat:mmao95_Dongyihe_weijiang_zhukk#famous_people\",\n",
      "            \"prov:agent\": \"alg:mmao95_Dongyihe_weijiang_zhukk#famous_people\"\n",
      "        }\n",
      "    },\n",
      "    \"wasGeneratedBy\": {\n",
      "        \"_:id4\": {\n",
      "            \"prov:entity\": \"dat:mmao95_Dongyihe_weijiang_zhukk#famous_people\",\n",
      "            \"prov:activity\": \"log:uuide2575f89-f744-4fe5-9902-d1d92e7034fb\"\n",
      "        }\n",
      "    },\n",
      "    \"wasDerivedFrom\": {\n",
      "        \"_:id5\": {\n",
      "            \"prov:generatedEntity\": \"dat:mmao95_Dongyihe_weijiang_zhukk#famous_people\",\n",
      "            \"prov:usedEntity\": \"bdp:wc8w-nujj\",\n",
      "            \"prov:activity\": \"log:uuide2575f89-f744-4fe5-9902-d1d92e7034fb\",\n",
      "            \"prov:generation\": \"log:uuide2575f89-f744-4fe5-9902-d1d92e7034fb\",\n",
      "            \"prov:usage\": \"log:uuide2575f89-f744-4fe5-9902-d1d92e7034fb\"\n",
      "        }\n",
      "    }\n",
      "}\n"
     ]
    }
   ],
   "source": [
    "print(doc.get_provn())\n",
    "print(json.dumps(json.loads(doc.serialize()), indent=4))"
   ]
  },
  {
   "cell_type": "code",
   "execution_count": null,
   "metadata": {},
   "outputs": [],
   "source": []
  },
  {
   "cell_type": "code",
   "execution_count": null,
   "metadata": {},
   "outputs": [],
   "source": []
  }
 ],
 "metadata": {
  "kernelspec": {
   "display_name": "Python 3",
   "language": "python",
   "name": "python3"
  },
  "language_info": {
   "codemirror_mode": {
    "name": "ipython",
    "version": 3
   },
   "file_extension": ".py",
   "mimetype": "text/x-python",
   "name": "python",
   "nbconvert_exporter": "python",
   "pygments_lexer": "ipython3",
   "version": "3.7.0"
  }
 },
 "nbformat": 4,
 "nbformat_minor": 2
}
