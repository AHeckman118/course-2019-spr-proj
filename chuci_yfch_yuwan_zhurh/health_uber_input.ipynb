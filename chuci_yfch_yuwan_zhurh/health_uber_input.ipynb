{
 "cells": [
  {
   "cell_type": "code",
   "execution_count": 1,
   "metadata": {
    "ExecuteTime": {
     "end_time": "2019-03-03T17:10:24.650551Z",
     "start_time": "2019-03-03T17:10:23.280488Z"
    }
   },
   "outputs": [],
   "source": [
    "import pandas as pd\n",
    "import urllib.request\n",
    "import json\n",
    "import dml\n",
    "import prov.model\n",
    "import datetime\n",
    "import uuid"
   ]
  },
  {
   "cell_type": "code",
   "execution_count": 236,
   "metadata": {
    "ExecuteTime": {
     "end_time": "2019-03-03T22:11:58.799365Z",
     "start_time": "2019-03-03T22:11:57.953573Z"
    }
   },
   "outputs": [
    {
     "data": {
      "text/plain": [
       "<pymongo.results.InsertOneResult at 0x1125b4448>"
      ]
     },
     "execution_count": 236,
     "metadata": {},
     "output_type": "execute_result"
    }
   ],
   "source": [
    "client = dml.pymongo.MongoClient()\n",
    "repo = client.repo\n",
    "repo1.authenticate('chuci_yfch_yuwan_zhurh', 'chuci_yfch_yuwan_zhurh')\n",
    "url = 'http://datamechanics.io/data/uber_newcity_cc.json'\n",
    "response = urllib.request.urlopen(url).read().decode(\"utf-8\")\n",
    "r = json.loads(response)\n",
    "s = json.dumps(r, sort_keys=True, indent=2)\n",
    "repo1.dropCollection(\"uber\")\n",
    "repo1.createCollection(\"uber\")\n",
    "repo1['chuci_yfch_yuwan_zhurh.uber'].insert_many(r)\n",
    "repo1['chuci_yfch_yuwan_zhurh.uber'].metadata({'complete':True})"
   ]
  },
  {
   "cell_type": "code",
   "execution_count": 227,
   "metadata": {
    "ExecuteTime": {
     "end_time": "2019-03-03T22:06:03.035652Z",
     "start_time": "2019-03-03T22:06:00.318895Z"
    }
   },
   "outputs": [
    {
     "data": {
      "text/plain": [
       "<pymongo.results.InsertOneResult at 0x112cb4048>"
      ]
     },
     "execution_count": 227,
     "metadata": {},
     "output_type": "execute_result"
    }
   ],
   "source": [
    "url2 = 'http://datamechanics.io/data/health_new_int_cc.json'\n",
    "response2 = urllib.request.urlopen(url2).read().decode(\"utf-8\")\n",
    "r2 = json.loads(response2)\n",
    "s2 = json.dumps(r2, sort_keys=True, indent=2)\n",
    "repo1.dropCollection(\"health\")\n",
    "repo1.createCollection(\"health\")\n",
    "repo1['chuci_yfch_yuwan_zhurh.health'].insert_many(r2)\n",
    "repo1['chuci_yfch_yuwan_zhurh.health'].metadata({'complete':True})"
   ]
  },
  {
   "cell_type": "code",
   "execution_count": 228,
   "metadata": {
    "ExecuteTime": {
     "end_time": "2019-03-03T22:06:03.043195Z",
     "start_time": "2019-03-03T22:06:03.037891Z"
    }
   },
   "outputs": [
    {
     "data": {
      "text/plain": [
       "{'_id': ObjectId('5c7c4fca6cc4b60250144c9b'),\n",
       " 'StateDesc': 'Washington',\n",
       " 'CityName': 'Seattle',\n",
       " 'PopulationCount': 608660}"
      ]
     },
     "execution_count": 228,
     "metadata": {},
     "output_type": "execute_result"
    }
   ],
   "source": [
    "repo1['chuci_yfch_yuwan_zhurh.health'].find_one()"
   ]
  },
  {
   "cell_type": "code",
   "execution_count": 234,
   "metadata": {
    "ExecuteTime": {
     "end_time": "2019-03-03T22:07:29.077174Z",
     "start_time": "2019-03-03T22:07:28.827970Z"
    },
    "scrolled": true
   },
   "outputs": [
    {
     "data": {
      "text/plain": [
       "<pymongo.results.InsertManyResult at 0x112cb7248>"
      ]
     },
     "execution_count": 234,
     "metadata": {},
     "output_type": "execute_result"
    }
   ],
   "source": [
    "pipline = [\n",
    "    { '$group' : { '_id' : \"$CityName\", 'population': { '$max': \"$PopulationCount\" } } }\n",
    "]\n",
    "\n",
    "agg_result = repo1['chuci_yfch_yuwan_zhurh.health'].aggregate(pipline)\n",
    "\n",
    "agg_list = list(agg_result)\n",
    "\n",
    "repo1.dropCollection(\"population\")\n",
    "repo1.createCollection(\"population\")\n",
    "repo1['chuci_yfch_yuwan_zhurh.population'].insert_many(agg_list)"
   ]
  },
  {
   "cell_type": "code",
   "execution_count": 235,
   "metadata": {
    "ExecuteTime": {
     "end_time": "2019-03-03T22:07:31.117360Z",
     "start_time": "2019-03-03T22:07:31.111125Z"
    }
   },
   "outputs": [
    {
     "data": {
      "text/plain": [
       "[{'_id': 'Los Angeles', 'population': 3792621},\n",
       " {'_id': 'Washington', 'population': 601723},\n",
       " {'_id': 'Boston', 'population': 617594},\n",
       " {'_id': 'Seattle', 'population': 608660}]"
      ]
     },
     "execution_count": 235,
     "metadata": {},
     "output_type": "execute_result"
    }
   ],
   "source": [
    "list(repo1['chuci_yfch_yuwan_zhurh.population'].find())"
   ]
  },
  {
   "cell_type": "code",
   "execution_count": 237,
   "metadata": {
    "ExecuteTime": {
     "end_time": "2019-03-03T22:12:02.480025Z",
     "start_time": "2019-03-03T22:12:02.474260Z"
    }
   },
   "outputs": [
    {
     "data": {
      "text/plain": [
       "{'_id': ObjectId('5c7c512e6cc4b6025014f088'),\n",
       " 'CITY': 'Seattle',\n",
       " 'Origin Movement ID': 259,\n",
       " 'Origin Display Name': 'Census Tract 75',\n",
       " 'Destination Movement ID': 1,\n",
       " 'Destination Display Name': 'Census Tract 220.06',\n",
       " 'Date Range': '1/1/2018 - 1/31/2018, Every day, Daily Average',\n",
       " 'Mean Travel Time (Seconds)': 1570,\n",
       " 'Range - Lower Bound Travel Time (Seconds)': 1309,\n",
       " 'Range - Upper Bound Travel Time (Seconds)': 1882}"
      ]
     },
     "execution_count": 237,
     "metadata": {},
     "output_type": "execute_result"
    }
   ],
   "source": [
    "repo1['chuci_yfch_yuwan_zhurh.uber'].find_one()"
   ]
  },
  {
   "cell_type": "code",
   "execution_count": 238,
   "metadata": {
    "ExecuteTime": {
     "end_time": "2019-03-03T22:15:14.237189Z",
     "start_time": "2019-03-03T22:15:14.041916Z"
    }
   },
   "outputs": [
    {
     "data": {
      "text/plain": [
       "<pymongo.results.InsertManyResult at 0x114cb8ac8>"
      ]
     },
     "execution_count": 238,
     "metadata": {},
     "output_type": "execute_result"
    }
   ],
   "source": [
    "pipline2 = [\n",
    "    { '$group' : { '_id' : \"$CITY\", 'mean_time': { '$avg': \"$Mean Travel Time (Seconds)\" } } }\n",
    "]\n",
    "\n",
    "agg_result_uber = repo1['chuci_yfch_yuwan_zhurh.uber'].aggregate(pipline2)\n",
    "\n",
    "agg_list_uber = list(agg_result_uber)\n",
    "\n",
    "repo1.dropCollection(\"uber_mean\")\n",
    "repo1.createCollection(\"uber_mean\")\n",
    "repo1['chuci_yfch_yuwan_zhurh.uber_mean'].insert_many(agg_list_uber)"
   ]
  },
  {
   "cell_type": "code",
   "execution_count": 239,
   "metadata": {
    "ExecuteTime": {
     "end_time": "2019-03-03T22:15:24.395851Z",
     "start_time": "2019-03-03T22:15:24.389942Z"
    }
   },
   "outputs": [
    {
     "data": {
      "text/plain": [
       "[{'_id': 'Los Angeles', 'mean_time': 1479.9741468459151},\n",
       " {'_id': 'Washington', 'mean_time': 1306.3177737881508},\n",
       " {'_id': 'Boston', 'mean_time': 1536.976127320955},\n",
       " {'_id': 'Seattle', 'mean_time': 1202.306338028169}]"
      ]
     },
     "execution_count": 239,
     "metadata": {},
     "output_type": "execute_result"
    }
   ],
   "source": [
    "list(repo1['chuci_yfch_yuwan_zhurh.uber_mean'].find())"
   ]
  },
  {
   "cell_type": "code",
   "execution_count": 271,
   "metadata": {
    "ExecuteTime": {
     "end_time": "2019-03-03T22:48:04.461532Z",
     "start_time": "2019-03-03T22:48:04.455772Z"
    }
   },
   "outputs": [],
   "source": [
    "l1 = list(repo1['chuci_yfch_yuwan_zhurh.population'].find())\n",
    "\n",
    "l2 = list(repo1['chuci_yfch_yuwan_zhurh.uber_mean'].find())\n",
    "\n",
    "l3 = []\n",
    "for each1 in l1:\n",
    "    for each2 in l2:\n",
    "        if each1['_id'] == each2['_id']:\n",
    "            l3.append({'_id':each1['_id'],\n",
    "                      'population':each1['population'],\n",
    "                       'mean_time':each2['mean_time']\n",
    "                      })"
   ]
  },
  {
   "cell_type": "code",
   "execution_count": 273,
   "metadata": {
    "ExecuteTime": {
     "end_time": "2019-03-03T22:48:39.002928Z",
     "start_time": "2019-03-03T22:48:38.809581Z"
    }
   },
   "outputs": [
    {
     "data": {
      "text/plain": [
       "<pymongo.results.InsertManyResult at 0x1138b8b08>"
      ]
     },
     "execution_count": 273,
     "metadata": {},
     "output_type": "execute_result"
    }
   ],
   "source": [
    "repo1.dropCollection(\"city_pop_time\")\n",
    "repo1.createCollection(\"city_pop_time\")\n",
    "repo1['chuci_yfch_yuwan_zhurh.city_pop_time'].insert_many(l3)"
   ]
  },
  {
   "cell_type": "code",
   "execution_count": null,
   "metadata": {},
   "outputs": [],
   "source": []
  }
 ],
 "metadata": {
  "hide_input": false,
  "kernelspec": {
   "display_name": "Python 3",
   "language": "python",
   "name": "python3"
  },
  "language_info": {
   "codemirror_mode": {
    "name": "ipython",
    "version": 3
   },
   "file_extension": ".py",
   "mimetype": "text/x-python",
   "name": "python",
   "nbconvert_exporter": "python",
   "pygments_lexer": "ipython3",
   "version": "3.6.7"
  }
 },
 "nbformat": 4,
 "nbformat_minor": 2
}
